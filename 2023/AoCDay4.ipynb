{
 "cells": [
  {
   "cell_type": "code",
   "execution_count": 71,
   "id": "4234353d-beab-4734-a323-40ea72168a28",
   "metadata": {},
   "outputs": [],
   "source": [
    "from pathlib import Path\n",
    "import re\n",
    "\n",
    "path = Path('Day4Part1.txt')\n",
    "Cards = path.read_text().splitlines()"
   ]
  },
  {
   "cell_type": "code",
   "execution_count": 72,
   "id": "7cbce77f-74fa-4e56-874a-32fa880c6401",
   "metadata": {},
   "outputs": [],
   "source": [
    "def checker(Winners, Scratchers):\n",
    "\n",
    "    winCount = 0\n",
    "    \n",
    "    for winner in Winners:\n",
    "        if winner in Scratchers:\n",
    "            winCount += 1\n",
    "\n",
    "    if winCount == 0:\n",
    "        Score = 0\n",
    "    elif winCount == 1:\n",
    "        Score = 1\n",
    "    else:\n",
    "        Score = 2**(winCount - 1)\n",
    "    \n",
    "    #print(\"Card:\",CardNo,\"Winners:\",winCount,\"Score:\", Score)\n",
    "    return winCount"
   ]
  },
  {
   "cell_type": "code",
   "execution_count": 73,
   "id": "66d135b0-c9c8-43d1-b0da-a4facd85b65a",
   "metadata": {},
   "outputs": [
    {
     "name": "stdout",
     "output_type": "stream",
     "text": [
      "4\n",
      "189\n"
     ]
    }
   ],
   "source": [
    "test = checker([41, 48, 83, 86, 17], [83, 86,  6, 31, 17, 9, 48, 53])\n",
    "print(test)\n",
    "print(len(Cards))"
   ]
  },
  {
   "cell_type": "code",
   "execution_count": 74,
   "id": "4986b829-7326-4263-b06b-4513904052a6",
   "metadata": {},
   "outputs": [
    {
     "name": "stdout",
     "output_type": "stream",
     "text": [
      "Total Score: 4065\n"
     ]
    }
   ],
   "source": [
    "Total = 0\n",
    "for i in range(0,len(Cards)):\n",
    "    card = re.split('[:/|]', Cards[i])\n",
    "    Score1 = checker(card[1].split(), card[2].split())\n",
    "    if Score1 > 0:\n",
    "        top = (i + Score1) if ((i+Score1)<(len(Cards)-1)) else (len(Cards)-1)\n",
    "        for j in range((i+1),top):\n",
    "            card = re.split('[:/|]', Cards[j])\n",
    "            Score2 = checker(card[1].split(), card[2].split())\n",
    "            Total += Score2\n",
    "    Total += Score1\n",
    "    #print(\"Score After:\", Score,\"Subtotal:\",Total)\n",
    "\n",
    "print(\"Total Score:\",Total)"
   ]
  },
  {
   "cell_type": "code",
   "execution_count": 76,
   "id": "1676364b-84e5-45ba-a176-7bef0a02d7e6",
   "metadata": {},
   "outputs": [
    {
     "name": "stdout",
     "output_type": "stream",
     "text": [
      "Rack: [1, 2, 4, 8, 16, 32, 64, 128, 256, 512, 976, 1951, 3132, 6260, 12512, 19941, 27370, 48416, 95728, 47312, 1, 2, 4, 8, 16, 32, 64, 128, 240, 480, 960, 1919, 3836, 7668, 15264, 30528, 61024, 122048, 45632, 60496, 112844, 224728, 387041, 611770, 1223540, 1, 1, 1, 2, 2, 2, 4, 7, 14, 14, 28, 56, 98, 161, 57, 1, 2, 4, 8, 16, 30, 60, 120, 240, 480, 960, 1903, 3806, 7570, 7570, 14660, 12697, 25394, 17704, 34208, 30402, 12698, 1, 2, 4, 7, 14, 28, 42, 80, 160, 313, 624, 1088, 2148, 3208, 3128, 980, 980, 314, 1, 2, 4, 8, 16, 32, 64, 128, 254, 507, 822, 1600, 2362, 762, 762, 508, 1, 2, 4, 8, 16, 32, 32, 64, 128, 256, 492, 983, 1708, 1708, 3408, 6196, 2756, 4529, 8994, 1, 1, 2, 2, 4, 8, 15, 30, 60, 120, 236, 472, 854, 1236, 1234, 1234, 2445, 1, 2, 4, 8, 16, 32, 59, 116, 232, 405, 794, 1588, 2539, 3374, 4169, 1, 2, 4, 8, 16, 32, 64, 128, 256, 504, 944, 1759, 3500, 6996, 13992, 27480, 54928, 106100, 157272, 300552, 414593, 821246]\n",
      "Total Score: 189\n"
     ]
    }
   ],
   "source": [
    "rack = [1]*Total\n",
    "\n",
    "for i in range(0,len(Cards)):\n",
    "    card = re.split('[:/|]', Cards[i])\n",
    "    Score = checker(card[1].split(), card[2].split())\n",
    "    top = i+Score+1\n",
    "    for j in range((i+1),top):\n",
    "        rack[j] += 1*rack[i]\n",
    "    #print(\"Rack\",i,\":\",rack)\n",
    "    #print(\"Score After:\", Score,\"Subtotal:\",Total)\n",
    "\n",
    "print(\"Rack:\",rack)\n",
    "Total = sum(rack)\n",
    "print(\"Total Score:\",Total)"
   ]
  },
  {
   "cell_type": "code",
   "execution_count": null,
   "id": "39176c7e-8141-499e-b962-ca9d72b9a577",
   "metadata": {},
   "outputs": [],
   "source": []
  }
 ],
 "metadata": {
  "kernelspec": {
   "display_name": "Python 3 (ipykernel)",
   "language": "python",
   "name": "python3"
  },
  "language_info": {
   "codemirror_mode": {
    "name": "ipython",
    "version": 3
   },
   "file_extension": ".py",
   "mimetype": "text/x-python",
   "name": "python",
   "nbconvert_exporter": "python",
   "pygments_lexer": "ipython3",
   "version": "3.12.0"
  }
 },
 "nbformat": 4,
 "nbformat_minor": 5
}
