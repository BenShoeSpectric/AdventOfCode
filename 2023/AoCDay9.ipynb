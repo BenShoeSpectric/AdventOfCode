{
 "cells": [
  {
   "cell_type": "code",
   "execution_count": 36,
   "id": "eedac5f5-eac8-4408-83f9-0e62d4a1952b",
   "metadata": {},
   "outputs": [],
   "source": [
    "from pathlib import Path\n",
    "import re\n",
    "from math import lcm\n",
    "\n",
    "path = Path('Day9Input.txt')\n",
    "contents = path.read_text().splitlines()\n",
    "#print(contents)"
   ]
  },
  {
   "cell_type": "code",
   "execution_count": 37,
   "id": "4cfca85b-2ad0-4a44-aec3-560e835f8c7c",
   "metadata": {},
   "outputs": [],
   "source": [
    "def lineDifference(Line):\n",
    "    differences = []\n",
    "    last = line[0]\n",
    "    set = []\n",
    "    print(\"lineDifference:\",Line)\n",
    "    while True:\n",
    "        for entry in Line:\n",
    "            difference = int(entry) - int(last)\n",
    "            last = entry\n",
    "            set.append(difference)\n",
    "\n",
    "        if max(set) == 0:\n",
    "            break\n",
    "        else:\n",
    "            differences.append(set)\n",
    "            continue\n",
    "    return differences\n",
    "\n",
    "def nextStep(testArray):\n",
    "    nextStep = 0\n",
    "    for i in range(0,len(testArray)):\n",
    "        nextStep = testArray[-i][-1] + testArray [-i-1][-1]\n",
    "    return nextStep"
   ]
  },
  {
   "cell_type": "code",
   "execution_count": 38,
   "id": "d5f51a00-4dc7-4d04-945a-af6547313813",
   "metadata": {},
   "outputs": [],
   "source": [
    "#print(contents[0].split())\n",
    "#test = contents[0:5]\n",
    "#print(test)"
   ]
  },
  {
   "cell_type": "code",
   "execution_count": null,
   "id": "60a95152-54c8-432c-8d81-df2cde47cd91",
   "metadata": {},
   "outputs": [],
   "source": [
    "testArray = []\n",
    "Total = 0\n",
    "#print(contents)\n",
    "for set in test:\n",
    "    testArray = []\n",
    "    print(set)\n",
    "    line = set.split()\n",
    "    print(line)\n",
    "    testArray = lineDifference(line)\n",
    "    print(testArray)\n",
    "    Total += nextStep(testArray)\n",
    "\n",
    "print(Total)"
   ]
  },
  {
   "cell_type": "code",
   "execution_count": 40,
   "id": "33e490e0-7991-42c6-94f7-2e13d36d7b53",
   "metadata": {},
   "outputs": [
    {
     "name": "stdout",
     "output_type": "stream",
     "text": [
      "1731106378\n"
     ]
    }
   ],
   "source": [
    "###  Copy Test from Another  ###\n",
    "\n",
    "from math import comb\n",
    "def Lagrange1(nums):\n",
    "    n=len(nums)\n",
    "    res=0\n",
    "    for i,x in enumerate(nums):\n",
    "        res+=x*comb(n,i)*(-1)**(n-1-i)\n",
    "    return res\n",
    "\n",
    "def Lagrange2(nums):\n",
    "    n=len(nums)\n",
    "    res=0\n",
    "    for i,x in enumerate(nums):\n",
    "        res+=x*comb(n,i+1)*(-1)**(i)\n",
    "    return res\n",
    "\n",
    "res1,res2=0,0\n",
    "for line in contents:\n",
    "    nums=list(map(int,line.strip().split()))\n",
    "    res1+=Lagrange1(nums)\n",
    "    res2+=Lagrange2(nums)\n",
    "print(res1)"
   ]
  },
  {
   "cell_type": "code",
   "execution_count": null,
   "id": "6f197eff-a4b7-4481-81e4-c156590b8fbd",
   "metadata": {},
   "outputs": [],
   "source": []
  }
 ],
 "metadata": {
  "kernelspec": {
   "display_name": "Python 3 (ipykernel)",
   "language": "python",
   "name": "python3"
  },
  "language_info": {
   "codemirror_mode": {
    "name": "ipython",
    "version": 3
   },
   "file_extension": ".py",
   "mimetype": "text/x-python",
   "name": "python",
   "nbconvert_exporter": "python",
   "pygments_lexer": "ipython3",
   "version": "3.12.0"
  }
 },
 "nbformat": 4,
 "nbformat_minor": 5
}
