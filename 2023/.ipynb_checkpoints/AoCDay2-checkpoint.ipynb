{
 "cells": [
  {
   "cell_type": "code",
   "execution_count": null,
   "id": "c0e002bb-2a62-4fb6-bd31-67cb045ab1b3",
   "metadata": {},
   "outputs": [],
   "source": [
    "from pathlib import Path\n",
    "\n",
    "coords = []\n",
    "\n",
    "path = Path('Day2Part1.txt')\n",
    "contents = path.read_text().splitlines()\n",
    "Bag = {'red':12, 'blue':14,'green':13}"
   ]
  },
  {
   "cell_type": "code",
   "execution_count": null,
   "id": "adcb0a04-df51-443e-afaf-0c82da24f508",
   "metadata": {},
   "outputs": [],
   "source": [
    "for game in contents:\n",
    "    game.split(\":\")\n",
    "    GameTitle = game[0]\n",
    "    Draws = game[1].split(';')\n",
    "    for draw in Draws:\n",
    "        draw.split(',')\n",
    "        for hand in hands:\n",
    "            hand.split()\n",
    "            draw_dict = {}\n",
    "            for i in range(0, len(hands), 2):\n",
    "                draw_dict[hands[i]] = hands[i + 1]\n"
   ]
  }
 ],
 "metadata": {
  "kernelspec": {
   "display_name": "Python 3 (ipykernel)",
   "language": "python",
   "name": "python3"
  },
  "language_info": {
   "codemirror_mode": {
    "name": "ipython",
    "version": 3
   },
   "file_extension": ".py",
   "mimetype": "text/x-python",
   "name": "python",
   "nbconvert_exporter": "python",
   "pygments_lexer": "ipython3",
   "version": "3.12.0"
  }
 },
 "nbformat": 4,
 "nbformat_minor": 5
}
