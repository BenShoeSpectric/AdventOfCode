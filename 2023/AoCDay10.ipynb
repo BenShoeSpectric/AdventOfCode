{
 "cells": [
  {
   "cell_type": "code",
   "execution_count": 1,
   "id": "94a380a1-06fb-4eb1-8ce1-c00b8a1330b6",
   "metadata": {},
   "outputs": [],
   "source": [
    "from pathlib import Path\n",
    "\n",
    "\n",
    "path = Path('Day10Input.txt')\n",
    "Maze = path.read_text().splitlines()"
   ]
  },
  {
   "cell_type": "markdown",
   "id": "e65a0405-203c-4270-aacc-ea33bf90da29",
   "metadata": {},
   "source": [
    "| is a vertical pipe connecting north and south.\n",
    "\r\n",
    "- is a horizontal pipe connecting east and west\n",
    ".\r\n",
    "L is a 90-degree bend connecting north and eas\n",
    "t.\r\n",
    "J is a 90-degree bend connecting north and we\n",
    "st.\r\n",
    "7 is a 90-degree bend connecting south and w\n",
    "est.\r\n",
    "F is a 90-degree bend connecting south and \n",
    "east.\r\n",
    ". is ground; there is no pipe in this\n",
    " tile.\r\n",
    "S is the starting position of the animal; there is a pipe on this tile, but your sketch doesn't show what shape the pipe has."
   ]
  },
  {
   "cell_type": "code",
   "execution_count": 2,
   "id": "11b8f1d3-fd1a-4eab-9201-2224e8cc904d",
   "metadata": {},
   "outputs": [
    {
     "name": "stdout",
     "output_type": "stream",
     "text": [
      "Location at: 118 63\n"
     ]
    }
   ],
   "source": [
    "## Find the Start Point ##\n",
    "\n",
    "for count,row in enumerate(Maze):\n",
    "    loc = row.find(\"S\")\n",
    "    if loc == -1:\n",
    "        continue\n",
    "    else:\n",
    "        Start = [count,loc]\n",
    "        print(\"Location at:\", count, loc)\n",
    "        break"
   ]
  },
  {
   "cell_type": "code",
   "execution_count": 11,
   "id": "ea70db2c-952c-4e77-9f6e-1c6396f99013",
   "metadata": {},
   "outputs": [
    {
     "name": "stdout",
     "output_type": "stream",
     "text": [
      "^ [117, 63]\n",
      "v [116, 62]\n",
      "> [116, 63]\n",
      "v [117, 64]\n",
      "v [118, 64]\n",
      "v [119, 64]\n",
      "< [120, 63]\n",
      "^ [119, 63]\n",
      "^ [118, 63]\n",
      "Steps: 6.0\n"
     ]
    }
   ],
   "source": [
    "## Make First Move ##\n",
    "mouse = [117,63]\n",
    "steps = 1\n",
    "last = \"^\"  #Top, Left, Right\n",
    "print(last,mouse)\n",
    "## Keep Moving ##\n",
    "while Maze[mouse[0]][mouse[1]] != \"S\":\n",
    "    if Maze[mouse[0]][mouse[1]] == \"|\":\n",
    "        if last == \"^\":\n",
    "            mouse[0] -= 1\n",
    "        else:  ## Top\n",
    "            mouse[0] += 1\n",
    "        steps += 1\n",
    "\n",
    "    if Maze[mouse[0]][mouse[1]] == \"-\":\n",
    "        if last == \"<\":\n",
    "            mouse[1] -= 1\n",
    "        else:  ##  Left\n",
    "            mouse[1] += 1\n",
    "        steps += 1\n",
    "\n",
    "    if Maze[mouse[0]][mouse[1]] == \"L\":\n",
    "        if last == \"v\":\n",
    "            mouse[1] += 1\n",
    "            last = \">\"\n",
    "        else:\n",
    "            mouse[0] -= 1\n",
    "            last = \"^\"\n",
    "        steps += 1\n",
    "\n",
    "    if Maze[mouse[0]][mouse[1]] == \"J\":\n",
    "        if last == \"v\":\n",
    "            mouse[1] -= 1\n",
    "            last = \"<\"\n",
    "        else:\n",
    "            mouse[0] -= 1\n",
    "            last = \"^\"\n",
    "        steps += 1\n",
    "\n",
    "    if Maze[mouse[0]][mouse[1]] == \"7\":\n",
    "        if last == \"^\":\n",
    "            mouse[1] -= 1\n",
    "            last = \"<\"\n",
    "        else:\n",
    "            mouse[0] += 1\n",
    "            last = \"v\"\n",
    "        steps += 1\n",
    "\n",
    "    if Maze[mouse[0]][mouse[1]] == \"F\":\n",
    "        if last == \"^\":\n",
    "            mouse[1] += 1\n",
    "            last = \">\"\n",
    "        else:\n",
    "            mouse[0] -= 1\n",
    "            last = \"v\"\n",
    "        steps += 1\n",
    "\n",
    "    print(last, mouse)\n",
    "\n",
    "print(\"Steps:\", steps/2)"
   ]
  },
  {
   "cell_type": "code",
   "execution_count": null,
   "id": "25d0e752-4246-4cec-bd6d-7210f38204ce",
   "metadata": {},
   "outputs": [],
   "source": []
  }
 ],
 "metadata": {
  "kernelspec": {
   "display_name": "Python 3 (ipykernel)",
   "language": "python",
   "name": "python3"
  },
  "language_info": {
   "codemirror_mode": {
    "name": "ipython",
    "version": 3
   },
   "file_extension": ".py",
   "mimetype": "text/x-python",
   "name": "python",
   "nbconvert_exporter": "python",
   "pygments_lexer": "ipython3",
   "version": "3.12.0"
  }
 },
 "nbformat": 4,
 "nbformat_minor": 5
}
