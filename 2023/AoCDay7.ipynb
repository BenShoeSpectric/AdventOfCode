{
 "cells": [
  {
   "cell_type": "code",
   "execution_count": 45,
   "id": "d716a66d-bf9d-4050-84e8-032167c76304",
   "metadata": {},
   "outputs": [],
   "source": [
    "from pathlib import Path\n",
    "import re\n",
    "\n",
    "path = Path('Day6Test.txt')\n",
    "contents = path.read_text().splitlines()\n",
    "cardOrder = [\"2\",\"3\",\"4\",\"5\",\"6\",\"7\",\"8\",\"9\",\"T\",\"J\",\"Q\",\"K\",\"A\"]\n",
    "handTypes = [\"HC\",\"1P\",\"2P\",\"3k\",\"FH\",\"4k\",\"5k\"]"
   ]
  },
  {
   "cell_type": "code",
   "execution_count": 57,
   "id": "e52c84e1-8787-450f-a54b-f86d25b6bfd1",
   "metadata": {},
   "outputs": [],
   "source": [
    "def charMatch(new, test):\n",
    "    if cardOrder.index(new) > cardOrder.index(test):\n",
    "        step = 1\n",
    "    elif cardOrder.index(new) < cardOrder.index(test):\n",
    "        step = -1\n",
    "    else:\n",
    "        step = 0\n",
    "    return step\n",
    "\n",
    "def handType(hand):\n",
    "    trips = False\n",
    "    pair = False\n",
    "    cards = [x for x in hand]\n",
    "    for card in cards:\n",
    "        check = cards.count(card) + cards.count(\"J\")\n",
    "        #print(\"Check\",card,check)\n",
    "        if check == 5:\n",
    "            return \"G\"\n",
    "        elif check == 4:\n",
    "            return \"F\"\n",
    "        elif check == 3 and pair:\n",
    "            return \"E\"\n",
    "        elif check == 3:\n",
    "            swap = [i for i in cards if i != card]\n",
    "            cards = swap\n",
    "            trips = True\n",
    "        elif check == 2 and trips:\n",
    "            return \"E\"\n",
    "        elif check == 2 and pair:\n",
    "            return \"C\"\n",
    "        elif check == 2:\n",
    "            swap = [i for i in cards if i != card]\n",
    "            cards = swap\n",
    "            pair = True\n",
    "        else:\n",
    "            continue\n",
    "\n",
    "    if trips:\n",
    "        return \"D\"\n",
    "    elif pair:\n",
    "        return \"B\"\n",
    "    else:\n",
    "        return \"A\"\n"
   ]
  },
  {
   "cell_type": "code",
   "execution_count": 60,
   "id": "139439c6-de65-4a2c-b1ef-cadbf4982dbb",
   "metadata": {},
   "outputs": [
    {
     "name": "stdout",
     "output_type": "stream",
     "text": [
      "Check 3 2\n",
      "Check 2 1\n",
      "Check T 1\n",
      "Check 3 0\n",
      "Check K 1\n",
      "32A3D 765 B\n",
      "Check T 2\n",
      "Check 5 4\n",
      "A5515 684 F\n",
      "Check K 2\n",
      "Check K 0\n",
      "Check 6 1\n",
      "Check 7 2\n",
      "DD677 28 C\n",
      "Check K 3\n",
      "Check T 4\n",
      "DA11A 220 F\n",
      "Check Q 4\n",
      "CCC1E 483 F\n",
      "['B32A3D765', 'CDD67728', 'FA5515684', 'FCCC1E483', 'FDA11A220']\n",
      "5905\n"
     ]
    }
   ],
   "source": [
    "sortedResult = []\n",
    "for line in contents:\n",
    "    hand = line.split()[0]\n",
    "    bid = line.split()[1]\n",
    "    result = handType(hand)\n",
    "    hand = hand.translate(str.maketrans('TJQKA', f'A1CDE'))\n",
    "    print(hand,bid,result)\n",
    "    sortedResult.append(result+hand+bid)\n",
    "\n",
    "sortedResult.sort()\n",
    "print(sortedResult)\n",
    "i = 1\n",
    "Total = 0\n",
    "for hand in sortedResult:\n",
    "    Total += i*int(hand[6:])\n",
    "    i +=1\n",
    "    #print(Total, hand[6:])\n",
    "\n",
    "print(Total)\n",
    "    "
   ]
  },
  {
   "cell_type": "code",
   "execution_count": 58,
   "id": "b4caf124-a1f5-411b-95d3-024df928e5f2",
   "metadata": {},
   "outputs": [
    {
     "name": "stdout",
     "output_type": "stream",
     "text": [
      "Check Q 4\n",
      "F\n"
     ]
    }
   ],
   "source": [
    "print(handType(\"QQQJA\"))"
   ]
  },
  {
   "cell_type": "code",
   "execution_count": null,
   "id": "fe316052-c97e-4e42-a516-07ca5aabcc4c",
   "metadata": {},
   "outputs": [],
   "source": []
  }
 ],
 "metadata": {
  "kernelspec": {
   "display_name": "Python 3 (ipykernel)",
   "language": "python",
   "name": "python3"
  },
  "language_info": {
   "codemirror_mode": {
    "name": "ipython",
    "version": 3
   },
   "file_extension": ".py",
   "mimetype": "text/x-python",
   "name": "python",
   "nbconvert_exporter": "python",
   "pygments_lexer": "ipython3",
   "version": "3.12.0"
  }
 },
 "nbformat": 4,
 "nbformat_minor": 5
}
