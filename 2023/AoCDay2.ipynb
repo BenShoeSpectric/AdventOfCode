{
 "cells": [
  {
   "cell_type": "code",
   "execution_count": 1,
   "id": "c0e002bb-2a62-4fb6-bd31-67cb045ab1b3",
   "metadata": {},
   "outputs": [],
   "source": [
    "from pathlib import Path\n",
    "\n",
    "path = Path('Day2Part1.txt')\n",
    "contents = path.read_text().splitlines()\n",
    "Bag = {'red':12, 'blue':14,'green':13}\n",
    "Total = 0"
   ]
  },
  {
   "cell_type": "code",
   "execution_count": null,
   "id": "adcb0a04-df51-443e-afaf-0c82da24f508",
   "metadata": {},
   "outputs": [],
   "source": [
    "Total = 0\n",
    "\n",
    "for game in contents:\n",
    "    gameSplit = game.split(\":\")\n",
    "    GameTitle = gameSplit[0]\n",
    "    Draws = gameSplit[1].split(';')\n",
    "    \n",
    "    Red_count = None\n",
    "    Blue_count = None\n",
    "    Green_count = None\n",
    "\n",
    "    badGame = True\n",
    "    \n",
    "    for draw in Draws:\n",
    "        \n",
    "        hands = draw.split(',')\n",
    "        hands_dict = {}\n",
    "        for hand in hands:\n",
    "            set = hand.split(None)\n",
    "            hands_dict[set[1]] = int(set[0])\n",
    "\n",
    "        if hands_dict.get('red',0) > Bag['red']:\n",
    "            print(GameTitle,' has too many Red Balls')\n",
    "            badGame = False\n",
    "            break\n",
    "        elif hands_dict.get('blue',0) > Bag['blue']:\n",
    "            print(GameTitle,' has too many Blue Balls')\n",
    "            badGame = False\n",
    "            break\n",
    "        elif hands_dict.get('green',0) > Bag['green']:\n",
    "            print(GameTitle,' has too many Green Balls')\n",
    "            badGame = False\n",
    "            break\n",
    "        else:\n",
    "            continue\n",
    "            \n",
    "    if badGame:\n",
    "        print('Adding',GameTitle,'to the total')\n",
    "        GameTitleBreak = GameTitle.split(None)\n",
    "        Total += int(GameTitleBreak[1])\n",
    "\n",
    "print(\"The sum of the game numbers is \",Total)"
   ]
  },
  {
   "cell_type": "code",
   "execution_count": null,
   "id": "7bbe5096-afe4-4f23-bad9-b73f177e840b",
   "metadata": {},
   "outputs": [],
   "source": [
    "contents = ['Game 1: 3 blue, 4 red; 1 red, 2 green, 6 blue; 2 green',\n",
    "'Game 2: 1 blue, 2 green; 3 green, 4 blue, 1 red; 1 green, 1 blue',\n",
    "'Game 3: 8 green, 6 blue, 20 red; 5 blue, 4 red, 13 green; 5 green, 1 red',\n",
    "'Game 4: 1 green, 3 red, 6 blue; 3 green, 6 red; 3 green, 15 blue, 14 red',\n",
    "'Game 5: 6 red, 1 blue, 3 green; 2 blue, 1 red, 2 green']"
   ]
  },
  {
   "cell_type": "code",
   "execution_count": 3,
   "id": "dc37e5b8-750a-43c8-a4f6-6b807da28faf",
   "metadata": {},
   "outputs": [
    {
     "name": "stdout",
     "output_type": "stream",
     "text": [
      "The power-sum of the game numbers is  83105\n"
     ]
    }
   ],
   "source": [
    "Total = 0\n",
    "\n",
    "for game in contents:\n",
    "    gameSplit = game.split(\":\")\n",
    "    GameTitle = gameSplit[0]\n",
    "    Draws = gameSplit[1].split(';')\n",
    "    \n",
    "    Red_count = 0\n",
    "    Blue_count = 0\n",
    "    Green_count = 0\n",
    "    \n",
    "    for draw in Draws:\n",
    "        \n",
    "        hands = draw.split(',')\n",
    "        hands_dict = {}\n",
    "        for hand in hands:\n",
    "            set = hand.split(None)\n",
    "            hands_dict[set[1]] = int(set[0])\n",
    "     \n",
    "        if hands_dict.get('red') != None and hands_dict.get('red') > Red_count:\n",
    "            Red_count = hands_dict.get('red')\n",
    "\n",
    "        if hands_dict.get('blue') != None and hands_dict.get('blue') > Blue_count:\n",
    "            Blue_count = hands_dict.get('blue')\n",
    "\n",
    "        if hands_dict.get('green') != None and hands_dict.get('green') > Green_count:\n",
    "            Green_count = hands_dict.get('green')\n",
    "\n",
    " #   print('Red:',Red_count,\", Blue:\",Blue_count,\", Green:\", Green_count)\n",
    "\n",
    "    power = Red_count * Blue_count * Green_count\n",
    "#    print(GameTitle, power)\n",
    "    Total += power\n",
    "\n",
    "print(\"The power-sum of the game numbers is \",Total)"
   ]
  },
  {
   "cell_type": "code",
   "execution_count": null,
   "id": "f47532fb-3923-4f4e-b824-13f499905622",
   "metadata": {},
   "outputs": [],
   "source": []
  }
 ],
 "metadata": {
  "kernelspec": {
   "display_name": "Python 3 (ipykernel)",
   "language": "python",
   "name": "python3"
  },
  "language_info": {
   "codemirror_mode": {
    "name": "ipython",
    "version": 3
   },
   "file_extension": ".py",
   "mimetype": "text/x-python",
   "name": "python",
   "nbconvert_exporter": "python",
   "pygments_lexer": "ipython3",
   "version": "3.12.0"
  }
 },
 "nbformat": 4,
 "nbformat_minor": 5
}
