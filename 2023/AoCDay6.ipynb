{
 "cells": [
  {
   "cell_type": "markdown",
   "id": "a941d369-bb9d-476d-96c0-747d1611b69f",
   "metadata": {},
   "source": [
    "Puzzle Input:\n",
    "Time:        44     82     69     81\r\n",
    "Distance:   202   1076   1138   1458"
   ]
  },
  {
   "cell_type": "markdown",
   "id": "e81e0001-c202-4234-a5ca-b5d28ef4a4e2",
   "metadata": {},
   "source": [
    "Part 1"
   ]
  },
  {
   "cell_type": "code",
   "execution_count": 101,
   "id": "9ed20652-de5b-4b04-a5ae-bc5583e322e1",
   "metadata": {},
   "outputs": [
    {
     "name": "stdout",
     "output_type": "stream",
     "text": [
      "Min out Check: 195\n",
      "Min in Check: 228\n",
      "min: 6 max 38 wins: 33\n",
      "Min out Check: 1056\n",
      "Min in Check: 1105\n",
      "min: 17 max 65 wins: 49\n",
      "Min out Check: 1134\n",
      "Min in Check: 1148\n",
      "min: 28 max 41 wins: 14\n",
      "Min out Check: 1458\n",
      "Min in Check: 1484\n",
      "min: 28 max 53 wins: 26\n",
      "[33, 49, 14, 26]\n",
      "588588\n"
     ]
    }
   ],
   "source": [
    "from math import sqrt,ceil,floor\n",
    "\n",
    "times = [44,82,69,81]\n",
    "distances = [202,1076,1138,1458]\n",
    "\n",
    "#times = [7,15,30]\n",
    "#distances = [9,40,200]\n",
    "scores = []\n",
    "score = 1\n",
    "\n",
    "for i in range(0,len(times)):\n",
    "    b = times[i]\n",
    "    c = distances[i]\n",
    "    t = ceil((b-sqrt(b**2-4*c))/2)\n",
    "    if (t**2-b*t+c) == 0:\n",
    "        t += 1\n",
    "    print(\"Min out Check:\",(times[i]-t+1)*(t-1))\n",
    "    print(\"Min in Check:\",(times[i]-t)*(t))\n",
    "    print(\"min:\", t, \"max\", times[i]-t,\"wins:\", times[i]-t*2+1)\n",
    "    scores.append(times[i]-t*2+1)\n",
    "    score *= times[i]-t*2+1\n",
    "\n",
    "print(scores)\n",
    "print(score)\n"
   ]
  },
  {
   "cell_type": "markdown",
   "id": "0291d167-dbed-4551-a4be-259b81121466",
   "metadata": {},
   "source": [
    "Part 2"
   ]
  },
  {
   "cell_type": "code",
   "execution_count": 103,
   "id": "caf93e47-5885-43b2-a990-78441abc1718",
   "metadata": {},
   "outputs": [
    {
     "name": "stdout",
     "output_type": "stream",
     "text": [
      "Min out Check: 202107588915890\n",
      "Min in Check: 202107623571738\n",
      "min: 5085567 max 39741414 wins: 34655848\n"
     ]
    }
   ],
   "source": [
    "from math import sqrt,ceil,floor\n",
    "\n",
    "times = [44,82,69,81]\n",
    "distances = [202,1076,1138,1458]\n",
    "\n",
    "#times = [7,15,30]\n",
    "#distances = [9,40,200]\n",
    "scores = []\n",
    "score = 1\n",
    "\n",
    "   \n",
    "b = 44826981\n",
    "c = 202107611381458\n",
    "t = ceil((b-sqrt(b**2-4*c))/2)\n",
    "if (t**2-b*t+c) == 0:\n",
    "    t += 1\n",
    "print(\"Min out Check:\",(b-t+1)*(t-1))\n",
    "print(\"Min in Check:\",(b-t)*(t))\n",
    "print(\"min:\", t, \"max\", b-t,\"wins:\", b-t*2+1)\n",
    "score *= b-t*2+1\n"
   ]
  },
  {
   "cell_type": "code",
   "execution_count": null,
   "id": "58f9a1fb-7fa9-4b30-96ec-038fe95e6a7d",
   "metadata": {},
   "outputs": [],
   "source": []
  }
 ],
 "metadata": {
  "kernelspec": {
   "display_name": "Python 3 (ipykernel)",
   "language": "python",
   "name": "python3"
  },
  "language_info": {
   "codemirror_mode": {
    "name": "ipython",
    "version": 3
   },
   "file_extension": ".py",
   "mimetype": "text/x-python",
   "name": "python",
   "nbconvert_exporter": "python",
   "pygments_lexer": "ipython3",
   "version": "3.12.0"
  }
 },
 "nbformat": 4,
 "nbformat_minor": 5
}
