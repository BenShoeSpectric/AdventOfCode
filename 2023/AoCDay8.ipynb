{
 "cells": [
  {
   "cell_type": "code",
   "execution_count": 1,
   "id": "eedac5f5-eac8-4408-83f9-0e62d4a1952b",
   "metadata": {},
   "outputs": [],
   "source": [
    "from pathlib import Path\n",
    "import re\n",
    "from math import lcm\n",
    "\n",
    "path = Path('Day8Input.txt')\n",
    "contents = path.read_text().splitlines()"
   ]
  },
  {
   "cell_type": "code",
   "execution_count": 2,
   "id": "41083ad1-2ef9-4e5a-b4d3-9ee57723a0a0",
   "metadata": {},
   "outputs": [],
   "source": [
    "def makeGraph(nodeLine):\n",
    "    startNode = nodeLine.split(\"=\")[0]\n",
    "    links = nodeLine.split(\"=\")[1]\n",
    "    #print(links)\n",
    "    linkList = list(filter(None,re.split('[^A-Z]', links)))\n",
    "    #print(linkList)\n",
    "    return {startNode[0:3]:linkList}\n",
    "\n",
    "def graphWalk(start,graph,directions):\n",
    "    step = graph[start][int(directions[0])]\n",
    "    stepping = directions[1:]\n",
    "    for direction in stepping:\n",
    "        step = graph[step][int(direction)]\n",
    "    return step"
   ]
  },
  {
   "cell_type": "code",
   "execution_count": 3,
   "id": "b36b2787-0f96-47fe-a846-0cd6902b78e8",
   "metadata": {},
   "outputs": [
    {
     "name": "stdout",
     "output_type": "stream",
     "text": [
      "T\n"
     ]
    }
   ],
   "source": [
    "#a = makeGraph(\"TJS = (LFP, HKT)\")\n",
    "#b = makeGraph(\"SMT = (LDV, MMH)\")\n",
    "#a.update(b)\n",
    "#print(contents[2])\n",
    "#directions = list(contents[0].translate(str.maketrans('LR', f'01')))\n",
    "#print(directions)\n",
    "#print(a)\n",
    "#print(a[\"SMT\"][0])\n",
    "print(\"SMT\"[-1])"
   ]
  },
  {
   "cell_type": "code",
   "execution_count": 4,
   "id": "7b66989f-9153-48b0-8048-35725094b355",
   "metadata": {},
   "outputs": [
    {
     "name": "stdout",
     "output_type": "stream",
     "text": [
      "Location: ZZZ Cycles 71 Steps 19951\n"
     ]
    }
   ],
   "source": [
    "###  Part 1  ###\n",
    "directions = list(contents[0].translate(str.maketrans('LR', f'01')))\n",
    "graph = {}\n",
    "\n",
    "for i in range(2,len(contents)):\n",
    "    nodeLinks = makeGraph(contents[i])\n",
    "    graph.update(nodeLinks)\n",
    "\n",
    "\n",
    "\n",
    "#print(starts, \"\\n\\n\",ends)\n",
    "cycles = 0\n",
    "loc = \"AAA\"\n",
    "while loc != \"ZZZ\":\n",
    "    loc = graphWalk(loc,graph,directions)\n",
    "    cycles += 1\n",
    "\n",
    "#print(directions)\n",
    "print(\"Location:\",loc,\"Cycles\",cycles,\"Steps\",cycles*len(directions))"
   ]
  },
  {
   "cell_type": "code",
   "execution_count": 7,
   "id": "ea86f9fe-4a9c-4737-a2cd-80b7c8e0dc2d",
   "metadata": {},
   "outputs": [
    {
     "name": "stdout",
     "output_type": "stream",
     "text": [
      "[16579, 18827, 19951, 12083, 22199, 17141]\n",
      "Starts: ['XCA', 'GPA', 'AAA', 'LFA', 'PQA', 'HMA'] Steps: 16342438708751\n"
     ]
    }
   ],
   "source": [
    "###  Part 2 ###\n",
    "starts = []\n",
    "for k in graph:\n",
    "    if k[-1] == \"A\":\n",
    "        starts.append(k)\n",
    "    else:\n",
    "        continue\n",
    "\n",
    "length = len(starts)\n",
    "steppingLengths = []\n",
    "test = True\n",
    "\n",
    "for i in range(0,length):\n",
    "    loc = starts[i]\n",
    "    cycles = 0\n",
    "    while loc[-1] != \"Z\":\n",
    "        loc = graphWalk(loc,graph,directions)\n",
    "        cycles += 1\n",
    "    steps = cycles * len(directions)\n",
    "    steppingLengths.append(steps)\n",
    "\n",
    "print(steppingLengths)\n",
    "print(\"Starts:\",starts,\"Steps:\", lcm(*steppingLengths))\n",
    "        "
   ]
  },
  {
   "cell_type": "code",
   "execution_count": null,
   "id": "da0a72ea-32ff-467d-a9d2-ca4584fdc3da",
   "metadata": {},
   "outputs": [],
   "source": []
  }
 ],
 "metadata": {
  "kernelspec": {
   "display_name": "Python 3 (ipykernel)",
   "language": "python",
   "name": "python3"
  },
  "language_info": {
   "codemirror_mode": {
    "name": "ipython",
    "version": 3
   },
   "file_extension": ".py",
   "mimetype": "text/x-python",
   "name": "python",
   "nbconvert_exporter": "python",
   "pygments_lexer": "ipython3",
   "version": "3.12.0"
  }
 },
 "nbformat": 4,
 "nbformat_minor": 5
}
